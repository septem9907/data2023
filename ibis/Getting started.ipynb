{
 "cells": [
  {
   "cell_type": "code",
   "execution_count": 1,
   "id": "bd4e82bf-a655-48cb-9120-d3f3f727f6d4",
   "metadata": {},
   "outputs": [],
   "source": [
    "import ibis"
   ]
  },
  {
   "cell_type": "code",
   "execution_count": 2,
   "id": "6e4eae0a-529c-46d2-9d46-5eee25ceb687",
   "metadata": {},
   "outputs": [],
   "source": [
    "ibis.options.interactive = True"
   ]
  },
  {
   "cell_type": "code",
   "execution_count": 3,
   "id": "01b8ae3e-8367-4fd9-beb8-7c99abbad0fb",
   "metadata": {},
   "outputs": [],
   "source": [
    "!curl -LsS -o geography.db 'https://storage.googleapis.com/ibis-tutorial-data/geography.db'"
   ]
  },
  {
   "cell_type": "code",
   "execution_count": 4,
   "id": "50940532-5b88-4151-b424-b7527a68950e",
   "metadata": {},
   "outputs": [],
   "source": [
    "import os\n",
    "import tempfile\n",
    "\n",
    "connection = ibis.sqlite.connect(\"geography.db\")"
   ]
  },
  {
   "cell_type": "markdown",
   "id": "4290b314-0bbf-42e1-ba00-37823f13c29c",
   "metadata": {},
   "source": [
    "# Exploring the data"
   ]
  },
  {
   "cell_type": "code",
   "execution_count": 5,
   "id": "11301d22-0db8-42c1-98da-44f58bad84c1",
   "metadata": {},
   "outputs": [
    {
     "data": {
      "text/plain": [
       "['countries', 'gdp', 'independence']"
      ]
     },
     "execution_count": 5,
     "metadata": {},
     "output_type": "execute_result"
    }
   ],
   "source": [
    "connection.list_tables()"
   ]
  },
  {
   "cell_type": "code",
   "execution_count": 6,
   "id": "409dd9fe-65a9-4e02-8e7e-9fd3e3315cc9",
   "metadata": {},
   "outputs": [],
   "source": [
    "countries = connection.table(\"countries\")"
   ]
  },
  {
   "cell_type": "code",
   "execution_count": 7,
   "id": "255816d3-e9a0-4b64-a4d3-6c2a361378fb",
   "metadata": {},
   "outputs": [
    {
     "data": {
      "text/plain": [
       "['iso_alpha2',\n",
       " 'iso_alpha3',\n",
       " 'iso_numeric',\n",
       " 'fips',\n",
       " 'name',\n",
       " 'capital',\n",
       " 'area_km2',\n",
       " 'population',\n",
       " 'continent']"
      ]
     },
     "execution_count": 7,
     "metadata": {},
     "output_type": "execute_result"
    }
   ],
   "source": [
    "countries.columns"
   ]
  },
  {
   "cell_type": "code",
   "execution_count": 8,
   "id": "9c81bbb2-7ed5-4d8c-b15f-2b6dc807caa0",
   "metadata": {},
   "outputs": [
    {
     "data": {
      "text/html": [
       "<pre style=\"white-space:pre;overflow-x:auto;line-height:normal;font-family:Menlo,'DejaVu Sans Mono',consolas,'Courier New',monospace\">┏━━━━━━━━━━━━━━━━━━━━━━┳━━━━━━━━━━━┳━━━━━━━━━━━━┓\n",
       "┃<span style=\"font-weight: bold\"> name                 </span>┃<span style=\"font-weight: bold\"> continent </span>┃<span style=\"font-weight: bold\"> population </span>┃\n",
       "┡━━━━━━━━━━━━━━━━━━━━━━╇━━━━━━━━━━━╇━━━━━━━━━━━━┩\n",
       "│ <span style=\"color: #000080; text-decoration-color: #000080; font-weight: bold\">string</span>               │ <span style=\"color: #000080; text-decoration-color: #000080; font-weight: bold\">string</span>    │ <span style=\"color: #000080; text-decoration-color: #000080; font-weight: bold\">int32</span>      │\n",
       "├──────────────────────┼───────────┼────────────┤\n",
       "│ Andorra              │ EU        │      <span style=\"color: #008080; text-decoration-color: #008080; font-weight: bold\">84000</span> │\n",
       "│ United Arab Emirates │ AS        │    <span style=\"color: #008080; text-decoration-color: #008080; font-weight: bold\">4975593</span> │\n",
       "│ Afghanistan          │ AS        │   <span style=\"color: #008080; text-decoration-color: #008080; font-weight: bold\">29121286</span> │\n",
       "│ Antigua and Barbuda  │ NA        │      <span style=\"color: #008080; text-decoration-color: #008080; font-weight: bold\">86754</span> │\n",
       "│ Anguilla             │ NA        │      <span style=\"color: #008080; text-decoration-color: #008080; font-weight: bold\">13254</span> │\n",
       "│ Albania              │ EU        │    <span style=\"color: #008080; text-decoration-color: #008080; font-weight: bold\">2986952</span> │\n",
       "│ Armenia              │ AS        │    <span style=\"color: #008080; text-decoration-color: #008080; font-weight: bold\">2968000</span> │\n",
       "│ Netherlands Antilles │ NA        │     <span style=\"color: #008080; text-decoration-color: #008080; font-weight: bold\">300000</span> │\n",
       "│ Angola               │ AF        │   <span style=\"color: #008080; text-decoration-color: #008080; font-weight: bold\">13068161</span> │\n",
       "│ Antarctica           │ AN        │          <span style=\"color: #008080; text-decoration-color: #008080; font-weight: bold\">0</span> │\n",
       "│ <span style=\"color: #7f7f7f; text-decoration-color: #7f7f7f\">…</span>                    │ <span style=\"color: #7f7f7f; text-decoration-color: #7f7f7f\">…</span>         │          <span style=\"color: #7f7f7f; text-decoration-color: #7f7f7f\">…</span> │\n",
       "└──────────────────────┴───────────┴────────────┘\n",
       "</pre>\n"
      ],
      "text/plain": [
       "┏━━━━━━━━━━━━━━━━━━━━━━┳━━━━━━━━━━━┳━━━━━━━━━━━━┓\n",
       "┃\u001b[1m \u001b[0m\u001b[1mname\u001b[0m\u001b[1m                \u001b[0m\u001b[1m \u001b[0m┃\u001b[1m \u001b[0m\u001b[1mcontinent\u001b[0m\u001b[1m \u001b[0m┃\u001b[1m \u001b[0m\u001b[1mpopulation\u001b[0m\u001b[1m \u001b[0m┃\n",
       "┡━━━━━━━━━━━━━━━━━━━━━━╇━━━━━━━━━━━╇━━━━━━━━━━━━┩\n",
       "│ \u001b[1;34mstring\u001b[0m               │ \u001b[1;34mstring\u001b[0m    │ \u001b[1;34mint32\u001b[0m      │\n",
       "├──────────────────────┼───────────┼────────────┤\n",
       "│ Andorra              │ EU        │      \u001b[1;36m84000\u001b[0m │\n",
       "│ United Arab Emirates │ AS        │    \u001b[1;36m4975593\u001b[0m │\n",
       "│ Afghanistan          │ AS        │   \u001b[1;36m29121286\u001b[0m │\n",
       "│ Antigua and Barbuda  │ NA        │      \u001b[1;36m86754\u001b[0m │\n",
       "│ Anguilla             │ NA        │      \u001b[1;36m13254\u001b[0m │\n",
       "│ Albania              │ EU        │    \u001b[1;36m2986952\u001b[0m │\n",
       "│ Armenia              │ AS        │    \u001b[1;36m2968000\u001b[0m │\n",
       "│ Netherlands Antilles │ NA        │     \u001b[1;36m300000\u001b[0m │\n",
       "│ Angola               │ AF        │   \u001b[1;36m13068161\u001b[0m │\n",
       "│ Antarctica           │ AN        │          \u001b[1;36m0\u001b[0m │\n",
       "│ \u001b[2m…\u001b[0m                    │ \u001b[2m…\u001b[0m         │          \u001b[2m…\u001b[0m │\n",
       "└──────────────────────┴───────────┴────────────┘\n"
      ]
     },
     "execution_count": 8,
     "metadata": {},
     "output_type": "execute_result"
    }
   ],
   "source": [
    "countries[\"name\", \"continent\", \"population\"]"
   ]
  },
  {
   "cell_type": "code",
   "execution_count": 9,
   "id": "019e208c-b435-4550-be46-f70ee2df6ed9",
   "metadata": {},
   "outputs": [
    {
     "data": {
      "text/html": [
       "<pre style=\"white-space:pre;overflow-x:auto;line-height:normal;font-family:Menlo,'DejaVu Sans Mono',consolas,'Courier New',monospace\"></pre>\n"
      ],
      "text/plain": []
     },
     "metadata": {},
     "output_type": "display_data"
    },
    {
     "data": {
      "text/plain": [
       "\u001b[1;36m252\u001b[0m"
      ]
     },
     "execution_count": 9,
     "metadata": {},
     "output_type": "execute_result"
    }
   ],
   "source": [
    "countries.count()"
   ]
  },
  {
   "cell_type": "code",
   "execution_count": 10,
   "id": "96ca5903-f325-4c20-9a34-d3d608253360",
   "metadata": {},
   "outputs": [
    {
     "data": {
      "text/html": [
       "<pre style=\"white-space:pre;overflow-x:auto;line-height:normal;font-family:Menlo,'DejaVu Sans Mono',consolas,'Courier New',monospace\">┏━━━━━━━━━━━━━━━━━━━━━━┳━━━━━━━━━━━┳━━━━━━━━━━━━┓\n",
       "┃<span style=\"font-weight: bold\"> name                 </span>┃<span style=\"font-weight: bold\"> continent </span>┃<span style=\"font-weight: bold\"> population </span>┃\n",
       "┡━━━━━━━━━━━━━━━━━━━━━━╇━━━━━━━━━━━╇━━━━━━━━━━━━┩\n",
       "│ <span style=\"color: #000080; text-decoration-color: #000080; font-weight: bold\">string</span>               │ <span style=\"color: #000080; text-decoration-color: #000080; font-weight: bold\">string</span>    │ <span style=\"color: #000080; text-decoration-color: #000080; font-weight: bold\">int32</span>      │\n",
       "├──────────────────────┼───────────┼────────────┤\n",
       "│ Andorra              │ EU        │      <span style=\"color: #008080; text-decoration-color: #008080; font-weight: bold\">84000</span> │\n",
       "│ United Arab Emirates │ AS        │    <span style=\"color: #008080; text-decoration-color: #008080; font-weight: bold\">4975593</span> │\n",
       "│ Afghanistan          │ AS        │   <span style=\"color: #008080; text-decoration-color: #008080; font-weight: bold\">29121286</span> │\n",
       "└──────────────────────┴───────────┴────────────┘\n",
       "</pre>\n"
      ],
      "text/plain": [
       "┏━━━━━━━━━━━━━━━━━━━━━━┳━━━━━━━━━━━┳━━━━━━━━━━━━┓\n",
       "┃\u001b[1m \u001b[0m\u001b[1mname\u001b[0m\u001b[1m                \u001b[0m\u001b[1m \u001b[0m┃\u001b[1m \u001b[0m\u001b[1mcontinent\u001b[0m\u001b[1m \u001b[0m┃\u001b[1m \u001b[0m\u001b[1mpopulation\u001b[0m\u001b[1m \u001b[0m┃\n",
       "┡━━━━━━━━━━━━━━━━━━━━━━╇━━━━━━━━━━━╇━━━━━━━━━━━━┩\n",
       "│ \u001b[1;34mstring\u001b[0m               │ \u001b[1;34mstring\u001b[0m    │ \u001b[1;34mint32\u001b[0m      │\n",
       "├──────────────────────┼───────────┼────────────┤\n",
       "│ Andorra              │ EU        │      \u001b[1;36m84000\u001b[0m │\n",
       "│ United Arab Emirates │ AS        │    \u001b[1;36m4975593\u001b[0m │\n",
       "│ Afghanistan          │ AS        │   \u001b[1;36m29121286\u001b[0m │\n",
       "└──────────────────────┴───────────┴────────────┘\n"
      ]
     },
     "execution_count": 10,
     "metadata": {},
     "output_type": "execute_result"
    }
   ],
   "source": [
    "countries[\"name\", \"continent\", \"population\"].limit(3)"
   ]
  },
  {
   "cell_type": "markdown",
   "id": "74263a58-ccd4-4f78-af4d-88f65519168f",
   "metadata": {},
   "source": [
    "# Filters and order"
   ]
  },
  {
   "cell_type": "code",
   "execution_count": 11,
   "id": "e584590d-4686-4eca-9794-f41bd1441f28",
   "metadata": {},
   "outputs": [
    {
     "data": {
      "text/html": [
       "<pre style=\"white-space:pre;overflow-x:auto;line-height:normal;font-family:Menlo,'DejaVu Sans Mono',consolas,'Courier New',monospace\">┏━━━━━━━━━━━┓\n",
       "┃<span style=\"font-weight: bold\"> continent </span>┃\n",
       "┡━━━━━━━━━━━┩\n",
       "│ <span style=\"color: #000080; text-decoration-color: #000080; font-weight: bold\">string</span>    │\n",
       "├───────────┤\n",
       "│ EU        │\n",
       "│ AS        │\n",
       "│ NA        │\n",
       "│ AF        │\n",
       "│ AN        │\n",
       "│ SA        │\n",
       "│ OC        │\n",
       "└───────────┘\n",
       "</pre>\n"
      ],
      "text/plain": [
       "┏━━━━━━━━━━━┓\n",
       "┃\u001b[1m \u001b[0m\u001b[1mcontinent\u001b[0m\u001b[1m \u001b[0m┃\n",
       "┡━━━━━━━━━━━┩\n",
       "│ \u001b[1;34mstring\u001b[0m    │\n",
       "├───────────┤\n",
       "│ EU        │\n",
       "│ AS        │\n",
       "│ NA        │\n",
       "│ AF        │\n",
       "│ AN        │\n",
       "│ SA        │\n",
       "│ OC        │\n",
       "└───────────┘\n"
      ]
     },
     "execution_count": 11,
     "metadata": {},
     "output_type": "execute_result"
    }
   ],
   "source": [
    "countries[[\"continent\"]].distinct()"
   ]
  },
  {
   "cell_type": "code",
   "execution_count": null,
   "id": "50614277-58ea-40bd-a4b1-3922a2fb8185",
   "metadata": {},
   "outputs": [],
   "source": []
  }
 ],
 "metadata": {
  "kernelspec": {
   "display_name": "Python 3 (ipykernel)",
   "language": "python",
   "name": "python3"
  },
  "language_info": {
   "codemirror_mode": {
    "name": "ipython",
    "version": 3
   },
   "file_extension": ".py",
   "mimetype": "text/x-python",
   "name": "python",
   "nbconvert_exporter": "python",
   "pygments_lexer": "ipython3",
   "version": "3.10.8"
  },
  "toc-autonumbering": true
 },
 "nbformat": 4,
 "nbformat_minor": 5
}
